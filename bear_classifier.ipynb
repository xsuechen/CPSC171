{
  "nbformat": 4,
  "nbformat_minor": 0,
  "metadata": {
    "colab": {
      "provenance": [],
      "mount_file_id": "1MNCrUm_e6AZz-vKxjysJIk-XIBBkrt5F",
      "authorship_tag": "ABX9TyOve4r5DLBOXjqc1kuusZdr",
      "include_colab_link": true
    },
    "kernelspec": {
      "name": "python3",
      "display_name": "Python 3"
    },
    "language_info": {
      "name": "python"
    },
    "widgets": {
      "application/vnd.jupyter.widget-state+json": {
        "f9f29ca2e1d843feba4017188ac647a5": {
          "model_module": "@jupyter-widgets/controls",
          "model_name": "VBoxModel",
          "model_module_version": "1.5.0",
          "state": {
            "_dom_classes": [],
            "_model_module": "@jupyter-widgets/controls",
            "_model_module_version": "1.5.0",
            "_model_name": "VBoxModel",
            "_view_count": null,
            "_view_module": "@jupyter-widgets/controls",
            "_view_module_version": "1.5.0",
            "_view_name": "VBoxView",
            "box_style": "",
            "children": [
              "IPY_MODEL_8222eb00838841e4ba3194dcdb41d05d",
              "IPY_MODEL_acb224399f314a0bbcf4805851b934a6",
              "IPY_MODEL_ad7231d3a34a4e95bb3f0283f0886697",
              "IPY_MODEL_9d2f419f451f4b7ab66027431034bd9e",
              "IPY_MODEL_67a56dc2be534173abacc5584a0b6abf"
            ],
            "layout": "IPY_MODEL_9582296a60014a3cbe91c1bf904576ec"
          }
        },
        "8222eb00838841e4ba3194dcdb41d05d": {
          "model_module": "@jupyter-widgets/controls",
          "model_name": "LabelModel",
          "model_module_version": "1.5.0",
          "state": {
            "_dom_classes": [],
            "_model_module": "@jupyter-widgets/controls",
            "_model_module_version": "1.5.0",
            "_model_name": "LabelModel",
            "_view_count": null,
            "_view_module": "@jupyter-widgets/controls",
            "_view_module_version": "1.5.0",
            "_view_name": "LabelView",
            "description": "",
            "description_tooltip": null,
            "layout": "IPY_MODEL_e7065281e1184b8dbdc4e613738000fd",
            "placeholder": "​",
            "style": "IPY_MODEL_669364f8016e4777a3919bc1f1154bd8",
            "value": "Select your bear!"
          }
        },
        "acb224399f314a0bbcf4805851b934a6": {
          "model_module": "@jupyter-widgets/controls",
          "model_name": "FileUploadModel",
          "model_module_version": "1.5.0",
          "state": {
            "_counter": 1,
            "_dom_classes": [],
            "_model_module": "@jupyter-widgets/controls",
            "_model_module_version": "1.5.0",
            "_model_name": "FileUploadModel",
            "_view_count": null,
            "_view_module": "@jupyter-widgets/controls",
            "_view_module_version": "1.5.0",
            "_view_name": "FileUploadView",
            "accept": "",
            "button_style": "",
            "data": [
              null
            ],
            "description": "Upload",
            "description_tooltip": null,
            "disabled": false,
            "error": "",
            "icon": "upload",
            "layout": "IPY_MODEL_c6c2d662744e446d8c9025abf99bf7f7",
            "metadata": [
              {
                "name": "Duolingo_05_4053-2.webp",
                "type": "image/webp",
                "size": 94368,
                "lastModified": 1720631644942
              }
            ],
            "multiple": false,
            "style": "IPY_MODEL_02eb7d8d6a4e4a22bd84f1b0f3607053"
          }
        },
        "ad7231d3a34a4e95bb3f0283f0886697": {
          "model_module": "@jupyter-widgets/controls",
          "model_name": "ButtonModel",
          "model_module_version": "1.5.0",
          "state": {
            "_dom_classes": [],
            "_model_module": "@jupyter-widgets/controls",
            "_model_module_version": "1.5.0",
            "_model_name": "ButtonModel",
            "_view_count": null,
            "_view_module": "@jupyter-widgets/controls",
            "_view_module_version": "1.5.0",
            "_view_name": "ButtonView",
            "button_style": "",
            "description": "Classify",
            "disabled": false,
            "icon": "",
            "layout": "IPY_MODEL_3811f3eda1744f3e9de206d453b8a876",
            "style": "IPY_MODEL_b4a65be74611487687aed12d24e78b92",
            "tooltip": ""
          }
        },
        "9d2f419f451f4b7ab66027431034bd9e": {
          "model_module": "@jupyter-widgets/output",
          "model_name": "OutputModel",
          "model_module_version": "1.0.0",
          "state": {
            "_dom_classes": [],
            "_model_module": "@jupyter-widgets/output",
            "_model_module_version": "1.0.0",
            "_model_name": "OutputModel",
            "_view_count": null,
            "_view_module": "@jupyter-widgets/output",
            "_view_module_version": "1.0.0",
            "_view_name": "OutputView",
            "layout": "IPY_MODEL_4921b92e06064b7f89615e25c40e3f7b",
            "msg_id": "",
            "outputs": [
              {
                "output_type": "display_data",
                "data": {
                  "text/plain": "<PIL.Image.Image image mode=RGB size=102x128>",
                  "image/png": "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\n"
                },
                "metadata": {}
              }
            ]
          }
        },
        "67a56dc2be534173abacc5584a0b6abf": {
          "model_module": "@jupyter-widgets/controls",
          "model_name": "LabelModel",
          "model_module_version": "1.5.0",
          "state": {
            "_dom_classes": [],
            "_model_module": "@jupyter-widgets/controls",
            "_model_module_version": "1.5.0",
            "_model_name": "LabelModel",
            "_view_count": null,
            "_view_module": "@jupyter-widgets/controls",
            "_view_module_version": "1.5.0",
            "_view_name": "LabelView",
            "description": "",
            "description_tooltip": null,
            "layout": "IPY_MODEL_2b4fff34f881472b828d68ba3a707701",
            "placeholder": "​",
            "style": "IPY_MODEL_b101a98fb9944d35aac731bcd2eb22ff",
            "value": "Prediction: teddy; Probability: 0.9998"
          }
        },
        "9582296a60014a3cbe91c1bf904576ec": {
          "model_module": "@jupyter-widgets/base",
          "model_name": "LayoutModel",
          "model_module_version": "1.2.0",
          "state": {
            "_model_module": "@jupyter-widgets/base",
            "_model_module_version": "1.2.0",
            "_model_name": "LayoutModel",
            "_view_count": null,
            "_view_module": "@jupyter-widgets/base",
            "_view_module_version": "1.2.0",
            "_view_name": "LayoutView",
            "align_content": null,
            "align_items": null,
            "align_self": null,
            "border": null,
            "bottom": null,
            "display": null,
            "flex": null,
            "flex_flow": null,
            "grid_area": null,
            "grid_auto_columns": null,
            "grid_auto_flow": null,
            "grid_auto_rows": null,
            "grid_column": null,
            "grid_gap": null,
            "grid_row": null,
            "grid_template_areas": null,
            "grid_template_columns": null,
            "grid_template_rows": null,
            "height": null,
            "justify_content": null,
            "justify_items": null,
            "left": null,
            "margin": null,
            "max_height": null,
            "max_width": null,
            "min_height": null,
            "min_width": null,
            "object_fit": null,
            "object_position": null,
            "order": null,
            "overflow": null,
            "overflow_x": null,
            "overflow_y": null,
            "padding": null,
            "right": null,
            "top": null,
            "visibility": null,
            "width": null
          }
        },
        "e7065281e1184b8dbdc4e613738000fd": {
          "model_module": "@jupyter-widgets/base",
          "model_name": "LayoutModel",
          "model_module_version": "1.2.0",
          "state": {
            "_model_module": "@jupyter-widgets/base",
            "_model_module_version": "1.2.0",
            "_model_name": "LayoutModel",
            "_view_count": null,
            "_view_module": "@jupyter-widgets/base",
            "_view_module_version": "1.2.0",
            "_view_name": "LayoutView",
            "align_content": null,
            "align_items": null,
            "align_self": null,
            "border": null,
            "bottom": null,
            "display": null,
            "flex": null,
            "flex_flow": null,
            "grid_area": null,
            "grid_auto_columns": null,
            "grid_auto_flow": null,
            "grid_auto_rows": null,
            "grid_column": null,
            "grid_gap": null,
            "grid_row": null,
            "grid_template_areas": null,
            "grid_template_columns": null,
            "grid_template_rows": null,
            "height": null,
            "justify_content": null,
            "justify_items": null,
            "left": null,
            "margin": null,
            "max_height": null,
            "max_width": null,
            "min_height": null,
            "min_width": null,
            "object_fit": null,
            "object_position": null,
            "order": null,
            "overflow": null,
            "overflow_x": null,
            "overflow_y": null,
            "padding": null,
            "right": null,
            "top": null,
            "visibility": null,
            "width": null
          }
        },
        "669364f8016e4777a3919bc1f1154bd8": {
          "model_module": "@jupyter-widgets/controls",
          "model_name": "DescriptionStyleModel",
          "model_module_version": "1.5.0",
          "state": {
            "_model_module": "@jupyter-widgets/controls",
            "_model_module_version": "1.5.0",
            "_model_name": "DescriptionStyleModel",
            "_view_count": null,
            "_view_module": "@jupyter-widgets/base",
            "_view_module_version": "1.2.0",
            "_view_name": "StyleView",
            "description_width": ""
          }
        },
        "c6c2d662744e446d8c9025abf99bf7f7": {
          "model_module": "@jupyter-widgets/base",
          "model_name": "LayoutModel",
          "model_module_version": "1.2.0",
          "state": {
            "_model_module": "@jupyter-widgets/base",
            "_model_module_version": "1.2.0",
            "_model_name": "LayoutModel",
            "_view_count": null,
            "_view_module": "@jupyter-widgets/base",
            "_view_module_version": "1.2.0",
            "_view_name": "LayoutView",
            "align_content": null,
            "align_items": null,
            "align_self": null,
            "border": null,
            "bottom": null,
            "display": null,
            "flex": null,
            "flex_flow": null,
            "grid_area": null,
            "grid_auto_columns": null,
            "grid_auto_flow": null,
            "grid_auto_rows": null,
            "grid_column": null,
            "grid_gap": null,
            "grid_row": null,
            "grid_template_areas": null,
            "grid_template_columns": null,
            "grid_template_rows": null,
            "height": null,
            "justify_content": null,
            "justify_items": null,
            "left": null,
            "margin": null,
            "max_height": null,
            "max_width": null,
            "min_height": null,
            "min_width": null,
            "object_fit": null,
            "object_position": null,
            "order": null,
            "overflow": null,
            "overflow_x": null,
            "overflow_y": null,
            "padding": null,
            "right": null,
            "top": null,
            "visibility": null,
            "width": null
          }
        },
        "02eb7d8d6a4e4a22bd84f1b0f3607053": {
          "model_module": "@jupyter-widgets/controls",
          "model_name": "ButtonStyleModel",
          "model_module_version": "1.5.0",
          "state": {
            "_model_module": "@jupyter-widgets/controls",
            "_model_module_version": "1.5.0",
            "_model_name": "ButtonStyleModel",
            "_view_count": null,
            "_view_module": "@jupyter-widgets/base",
            "_view_module_version": "1.2.0",
            "_view_name": "StyleView",
            "button_color": null,
            "font_weight": ""
          }
        },
        "3811f3eda1744f3e9de206d453b8a876": {
          "model_module": "@jupyter-widgets/base",
          "model_name": "LayoutModel",
          "model_module_version": "1.2.0",
          "state": {
            "_model_module": "@jupyter-widgets/base",
            "_model_module_version": "1.2.0",
            "_model_name": "LayoutModel",
            "_view_count": null,
            "_view_module": "@jupyter-widgets/base",
            "_view_module_version": "1.2.0",
            "_view_name": "LayoutView",
            "align_content": null,
            "align_items": null,
            "align_self": null,
            "border": null,
            "bottom": null,
            "display": null,
            "flex": null,
            "flex_flow": null,
            "grid_area": null,
            "grid_auto_columns": null,
            "grid_auto_flow": null,
            "grid_auto_rows": null,
            "grid_column": null,
            "grid_gap": null,
            "grid_row": null,
            "grid_template_areas": null,
            "grid_template_columns": null,
            "grid_template_rows": null,
            "height": null,
            "justify_content": null,
            "justify_items": null,
            "left": null,
            "margin": null,
            "max_height": null,
            "max_width": null,
            "min_height": null,
            "min_width": null,
            "object_fit": null,
            "object_position": null,
            "order": null,
            "overflow": null,
            "overflow_x": null,
            "overflow_y": null,
            "padding": null,
            "right": null,
            "top": null,
            "visibility": null,
            "width": null
          }
        },
        "b4a65be74611487687aed12d24e78b92": {
          "model_module": "@jupyter-widgets/controls",
          "model_name": "ButtonStyleModel",
          "model_module_version": "1.5.0",
          "state": {
            "_model_module": "@jupyter-widgets/controls",
            "_model_module_version": "1.5.0",
            "_model_name": "ButtonStyleModel",
            "_view_count": null,
            "_view_module": "@jupyter-widgets/base",
            "_view_module_version": "1.2.0",
            "_view_name": "StyleView",
            "button_color": null,
            "font_weight": ""
          }
        },
        "2b4fff34f881472b828d68ba3a707701": {
          "model_module": "@jupyter-widgets/base",
          "model_name": "LayoutModel",
          "model_module_version": "1.2.0",
          "state": {
            "_model_module": "@jupyter-widgets/base",
            "_model_module_version": "1.2.0",
            "_model_name": "LayoutModel",
            "_view_count": null,
            "_view_module": "@jupyter-widgets/base",
            "_view_module_version": "1.2.0",
            "_view_name": "LayoutView",
            "align_content": null,
            "align_items": null,
            "align_self": null,
            "border": null,
            "bottom": null,
            "display": null,
            "flex": null,
            "flex_flow": null,
            "grid_area": null,
            "grid_auto_columns": null,
            "grid_auto_flow": null,
            "grid_auto_rows": null,
            "grid_column": null,
            "grid_gap": null,
            "grid_row": null,
            "grid_template_areas": null,
            "grid_template_columns": null,
            "grid_template_rows": null,
            "height": null,
            "justify_content": null,
            "justify_items": null,
            "left": null,
            "margin": null,
            "max_height": null,
            "max_width": null,
            "min_height": null,
            "min_width": null,
            "object_fit": null,
            "object_position": null,
            "order": null,
            "overflow": null,
            "overflow_x": null,
            "overflow_y": null,
            "padding": null,
            "right": null,
            "top": null,
            "visibility": null,
            "width": null
          }
        },
        "b101a98fb9944d35aac731bcd2eb22ff": {
          "model_module": "@jupyter-widgets/controls",
          "model_name": "DescriptionStyleModel",
          "model_module_version": "1.5.0",
          "state": {
            "_model_module": "@jupyter-widgets/controls",
            "_model_module_version": "1.5.0",
            "_model_name": "DescriptionStyleModel",
            "_view_count": null,
            "_view_module": "@jupyter-widgets/base",
            "_view_module_version": "1.2.0",
            "_view_name": "StyleView",
            "description_width": ""
          }
        },
        "4921b92e06064b7f89615e25c40e3f7b": {
          "model_module": "@jupyter-widgets/base",
          "model_name": "LayoutModel",
          "model_module_version": "1.2.0",
          "state": {
            "_model_module": "@jupyter-widgets/base",
            "_model_module_version": "1.2.0",
            "_model_name": "LayoutModel",
            "_view_count": null,
            "_view_module": "@jupyter-widgets/base",
            "_view_module_version": "1.2.0",
            "_view_name": "LayoutView",
            "align_content": null,
            "align_items": null,
            "align_self": null,
            "border": null,
            "bottom": null,
            "display": null,
            "flex": null,
            "flex_flow": null,
            "grid_area": null,
            "grid_auto_columns": null,
            "grid_auto_flow": null,
            "grid_auto_rows": null,
            "grid_column": null,
            "grid_gap": null,
            "grid_row": null,
            "grid_template_areas": null,
            "grid_template_columns": null,
            "grid_template_rows": null,
            "height": null,
            "justify_content": null,
            "justify_items": null,
            "left": null,
            "margin": null,
            "max_height": null,
            "max_width": null,
            "min_height": null,
            "min_width": null,
            "object_fit": null,
            "object_position": null,
            "order": null,
            "overflow": null,
            "overflow_x": null,
            "overflow_y": null,
            "padding": null,
            "right": null,
            "top": null,
            "visibility": null,
            "width": null
          }
        }
      }
    }
  },
  "cells": [
    {
      "cell_type": "markdown",
      "metadata": {
        "id": "view-in-github",
        "colab_type": "text"
      },
      "source": [
        "<a href=\"https://colab.research.google.com/github/xsuechen/CPSC171/blob/main/bear_classifier.ipynb\" target=\"_parent\"><img src=\"https://colab.research.google.com/assets/colab-badge.svg\" alt=\"Open In Colab\"/></a>"
      ]
    },
    {
      "cell_type": "code",
      "source": [
        "! [ -e /content ] && pip install -Uqq fastbook"
      ],
      "metadata": {
        "id": "ypOSbEBjsV47"
      },
      "execution_count": 1,
      "outputs": []
    },
    {
      "cell_type": "code",
      "source": [
        "from fastai.vision.widgets import *\n",
        "from fastai.learner import load_learner\n",
        "from fastai.vision.core import PILImage\n",
        "\n",
        "from pathlib import Path\n",
        "import os"
      ],
      "metadata": {
        "id": "5jM5p1uHtNTQ"
      },
      "execution_count": 2,
      "outputs": []
    },
    {
      "cell_type": "markdown",
      "source": [
        "CPSC 171, Ch.2: bear classifier 🐻 🧸"
      ],
      "metadata": {
        "id": "PnXN-6bgvtdN"
      }
    },
    {
      "cell_type": "code",
      "execution_count": 3,
      "metadata": {
        "id": "3kPQ9vzVQD7Q",
        "outputId": "e107381d-5473-42dc-cf3f-3d83a2ddba5c",
        "colab": {
          "referenced_widgets": [
            "f9f29ca2e1d843feba4017188ac647a5",
            "8222eb00838841e4ba3194dcdb41d05d",
            "acb224399f314a0bbcf4805851b934a6",
            "ad7231d3a34a4e95bb3f0283f0886697",
            "9d2f419f451f4b7ab66027431034bd9e",
            "67a56dc2be534173abacc5584a0b6abf",
            "9582296a60014a3cbe91c1bf904576ec",
            "e7065281e1184b8dbdc4e613738000fd",
            "669364f8016e4777a3919bc1f1154bd8",
            "c6c2d662744e446d8c9025abf99bf7f7",
            "02eb7d8d6a4e4a22bd84f1b0f3607053",
            "3811f3eda1744f3e9de206d453b8a876",
            "b4a65be74611487687aed12d24e78b92",
            "2b4fff34f881472b828d68ba3a707701",
            "b101a98fb9944d35aac731bcd2eb22ff",
            "4921b92e06064b7f89615e25c40e3f7b"
          ],
          "base_uri": "https://localhost:8080/",
          "height": 273
        }
      },
      "outputs": [
        {
          "output_type": "display_data",
          "data": {
            "text/plain": [
              "VBox(children=(Label(value='Select your bear!'), FileUpload(value={}, description='Upload'), Button(descriptio…"
            ],
            "application/vnd.jupyter.widget-view+json": {
              "version_major": 2,
              "version_minor": 0,
              "model_id": "f9f29ca2e1d843feba4017188ac647a5"
            }
          },
          "metadata": {}
        },
        {
          "output_type": "display_data",
          "data": {
            "text/plain": [
              "<IPython.core.display.HTML object>"
            ],
            "text/html": [
              "\n",
              "<style>\n",
              "    /* Turns off some styling */\n",
              "    progress {\n",
              "        /* gets rid of default border in Firefox and Opera. */\n",
              "        border: none;\n",
              "        /* Needs to be in here for Safari polyfill so background images work as expected. */\n",
              "        background-size: auto;\n",
              "    }\n",
              "    progress:not([value]), progress:not([value])::-webkit-progress-bar {\n",
              "        background: repeating-linear-gradient(45deg, #7e7e7e, #7e7e7e 10px, #5c5c5c 10px, #5c5c5c 20px);\n",
              "    }\n",
              "    .progress-bar-interrupted, .progress-bar-interrupted::-webkit-progress-bar {\n",
              "        background: #F44336;\n",
              "    }\n",
              "</style>\n"
            ]
          },
          "metadata": {}
        },
        {
          "output_type": "display_data",
          "data": {
            "text/plain": [
              "<IPython.core.display.HTML object>"
            ],
            "text/html": []
          },
          "metadata": {}
        }
      ],
      "source": [
        "path = Path()\n",
        "learn_inf = load_learner(path/'drive/MyDrive/CPSC171_Notebooks/classifier_model/export.pkl')\n",
        "\n",
        "btn_upload = widgets.FileUpload()\n",
        "out_pl = widgets.Output()\n",
        "lbl_pred = widgets.Label()\n",
        "btn_run = widgets.Button(description='Classify')\n",
        "\n",
        "def on_click_classify(change):\n",
        "    img = PILImage.create(btn_upload.data[-1])\n",
        "    out_pl.clear_output()\n",
        "    with out_pl: display(img.to_thumb(128,128))\n",
        "    pred,pred_idx,probs = learn_inf.predict(img)\n",
        "    lbl_pred.value = f'Prediction: {pred}; Probability: {probs[pred_idx]:.04f}'\n",
        "\n",
        "btn_run.on_click(on_click_classify)\n",
        "\n",
        "VBox([widgets.Label('Select your bear!'),\n",
        "      btn_upload, btn_run, out_pl, lbl_pred])"
      ]
    }
  ]
}